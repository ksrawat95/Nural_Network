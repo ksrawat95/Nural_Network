{
 "cells": [
  {
   "cell_type": "code",
   "execution_count": 30,
   "metadata": {},
   "outputs": [],
   "source": [
    "from matplotlib import pyplot as plt\n",
    "\n",
    "%matplotlib inline"
   ]
  },
  {
   "cell_type": "code",
   "execution_count": 67,
   "metadata": {},
   "outputs": [],
   "source": [
    "from keras import models\n",
    "from keras.layers import Dense, Dropout\n",
    "from keras.utils import to_categorical\n",
    "from keras.datasets import mnist\n",
    "import livelossplot\n",
    "from keras.utils.vis_utils import model_to_dot, plot_model\n",
    "\n",
    "from IPython.display import SVG, display"
   ]
  },
  {
   "cell_type": "code",
   "execution_count": 45,
   "metadata": {},
   "outputs": [],
   "source": [
    "# Fixed and are dependednt on the dataset\n",
    "NUM_ROWS = 28\n",
    "NUM_COLS = 28\n",
    "NUM_CLASSES = 10"
   ]
  },
  {
   "cell_type": "code",
   "execution_count": 27,
   "metadata": {},
   "outputs": [],
   "source": [
    "def data_summary(X_train, y_train, X_test, y_test):\n",
    "    \"\"\"Summarize current state of dataset\"\"\"\n",
    "    print('Train images shape:', X_train.shape)\n",
    "    print('Train labels shape:', y_train.shape)\n",
    "    print('Test images shape:', X_test.shape)\n",
    "    print('Test labels shape:', y_test.shape)\n",
    "    print('Train labels:', y_train)\n",
    "    print('Test labels:', y_test)"
   ]
  },
  {
   "cell_type": "code",
   "execution_count": 59,
   "metadata": {},
   "outputs": [
    {
     "name": "stdout",
     "output_type": "stream",
     "text": [
      "Train images shape: (60000, 28, 28)\n",
      "Train labels shape: (60000,)\n",
      "Test images shape: (10000, 28, 28)\n",
      "Test labels shape: (10000,)\n",
      "Train labels: [5 0 4 ... 5 6 8]\n",
      "Test labels: [7 2 1 ... 4 5 6]\n"
     ]
    }
   ],
   "source": [
    "# Load data\n",
    "(X_train, y_train), (X_test, y_test) = mnist.load_data()\n",
    "\n",
    "# Check state of dataset\n",
    "data_summary(X_train, y_train, X_test, y_test)"
   ]
  },
  {
   "cell_type": "code",
   "execution_count": 64,
   "metadata": {},
   "outputs": [
    {
     "data": {
      "text/plain": [
       "<matplotlib.image.AxesImage at 0x1b0942c6b50>"
      ]
     },
     "execution_count": 64,
     "metadata": {},
     "output_type": "execute_result"
    },
    {
     "data": {
      "image/png": "[encoded data removed]",
      "text/plain": [
       "<Figure size 432x288 with 1 Axes>"
      ]
     },
     "metadata": {
      "needs_background": "light"
     },
     "output_type": "display_data"
    }
   ],
   "source": [
    "plt.imshow(X_train[0], cmap='gray')"
   ]
  },
  {
   "cell_type": "code",
   "execution_count": 65,
   "metadata": {},
   "outputs": [
    {
     "data": {
      "text/plain": [
       "<matplotlib.image.AxesImage at 0x1b094314d30>"
      ]
     },
     "execution_count": 65,
     "metadata": {},
     "output_type": "execute_result"
    },
    {
     "data": {
      "image/png": "[encoded data removed]",
      "text/plain": [
       "<Figure size 432x288 with 1 Axes>"
      ]
     },
     "metadata": {
      "needs_background": "light"
     },
     "output_type": "display_data"
    }
   ],
   "source": [
    "plt.imshow(X_train[1], cmap='gray')"
   ]
  },
  {
   "cell_type": "code",
   "execution_count": 66,
   "metadata": {},
   "outputs": [
    {
     "data": {
      "text/plain": [
       "<matplotlib.image.AxesImage at 0x1b094366b50>"
      ]
     },
     "execution_count": 66,
     "metadata": {},
     "output_type": "execute_result"
    },
    {
     "data": {
      "image/png": "[encoded data removed]",
      "text/plain": [
       "<Figure size 432x288 with 1 Axes>"
      ]
     },
     "metadata": {
      "needs_background": "light"
     },
     "output_type": "display_data"
    }
   ],
   "source": [
    "plt.imshow(X_train[2], cmap='gray')"
   ]
  },
  {
   "cell_type": "code",
   "execution_count": 33,
   "metadata": {},
   "outputs": [
    {
     "data": {
      "text/plain": [
       "8"
      ]
     },
     "execution_count": 33,
     "metadata": {},
     "output_type": "execute_result"
    }
   ],
   "source": [
    "y_train[59999]"
   ]
  },
  {
   "cell_type": "code",
   "execution_count": 36,
   "metadata": {},
   "outputs": [
    {
     "data": {
      "text/plain": [
       "<matplotlib.image.AxesImage at 0x1b08ec902e0>"
      ]
     },
     "execution_count": 36,
     "metadata": {},
     "output_type": "execute_result"
    },
    {
     "data": {
      "image/png": "[encoded data removed]",
      "text/plain": [
       "<Figure size 432x288 with 1 Axes>"
      ]
     },
     "metadata": {
      "needs_background": "light"
     },
     "output_type": "display_data"
    }
   ],
   "source": [
    "plt.imshow(X_train[0], cmap='gray')"
   ]
  },
  {
   "cell_type": "code",
   "execution_count": 38,
   "metadata": {},
   "outputs": [],
   "source": [
    "# Reshape data\n",
    "X_train = X_train.reshape((X_train.shape[0], NUM_ROWS * NUM_COLS))\n",
    "X_train = X_train.astype('float32') / 255 #Normalization\n",
    "X_test = X_test.reshape((X_test.shape[0], NUM_ROWS * NUM_COLS))\n",
    "X_test = X_test.astype('float32') / 255 # #Normalization"
   ]
  },
  {
   "cell_type": "code",
   "execution_count": 39,
   "metadata": {},
   "outputs": [],
   "source": [
    "# Categorically encode labels (One hot encoding)\n",
    "y_train = to_categorical(y_train, NUM_CLASSES)\n",
    "y_test = to_categorical(y_test, NUM_CLASSES)"
   ]
  },
  {
   "cell_type": "code",
   "execution_count": 40,
   "metadata": {},
   "outputs": [
    {
     "name": "stdout",
     "output_type": "stream",
     "text": [
      "Train images shape: (60000, 784)\n",
      "Train labels shape: (60000, 10)\n",
      "Test images shape: (10000, 784)\n",
      "Test labels shape: (10000, 10)\n",
      "Train labels: [[0. 0. 0. ... 0. 0. 0.]\n",
      " [1. 0. 0. ... 0. 0. 0.]\n",
      " [0. 0. 0. ... 0. 0. 0.]\n",
      " ...\n",
      " [0. 0. 0. ... 0. 0. 0.]\n",
      " [0. 0. 0. ... 0. 0. 0.]\n",
      " [0. 0. 0. ... 0. 1. 0.]]\n",
      "Test labels: [[0. 0. 0. ... 1. 0. 0.]\n",
      " [0. 0. 1. ... 0. 0. 0.]\n",
      " [0. 1. 0. ... 0. 0. 0.]\n",
      " ...\n",
      " [0. 0. 0. ... 0. 0. 0.]\n",
      " [0. 0. 0. ... 0. 0. 0.]\n",
      " [0. 0. 0. ... 0. 0. 0.]]\n"
     ]
    }
   ],
   "source": [
    "# Check state of dataset\n",
    "data_summary(X_train, y_train, X_test, y_test)"
   ]
  },
  {
   "cell_type": "code",
   "execution_count": 53,
   "metadata": {},
   "outputs": [],
   "source": [
    "# Build neural network\n",
    "model = models.Sequential()\n",
    "model.add(Dense(512, activation='relu', input_shape=(784,)))\n",
    "model.add(Dropout(0.5))\n",
    "model.add(Dense(256, activation='relu'))\n",
    "model.add(Dropout(0.25))\n",
    "model.add(Dense(128, activation='relu'))\n",
    "model.add(Dense(10, activation='softmax'))"
   ]
  },
  {
   "cell_type": "code",
   "execution_count": 54,
   "metadata": {},
   "outputs": [
    {
     "data": {
      "image/png": "[encoded data removed]",
      "text/plain": [
       "<Figure size 864x576 with 2 Axes>"
      ]
     },
     "metadata": {
      "needs_background": "light"
     },
     "output_type": "display_data"
    },
    {
     "name": "stdout",
     "output_type": "stream",
     "text": [
      "accuracy\n",
      "\ttraining         \t (min:    0.885, max:    0.980, cur:    0.980)\n",
      "\tvalidation       \t (min:    0.953, max:    0.982, cur:    0.982)\n",
      "Loss\n",
      "\ttraining         \t (min:    0.067, max:    0.369, cur:    0.067)\n",
      "\tvalidation       \t (min:    0.065, max:    0.152, cur:    0.072)\n",
      "\b\b\b\b\b\b\b\b\b\b\b\b\b\b\b\b\b\b\b\b\b\b\b\b\b\b\b\b\b\b\b\b\b\b\b\b\b\b\b\b\b\b\b\b\b\b\b\b\b\b\b\b\b\b\b\b\b\b\b\b\b\b\b\b\b\b\b\b\b\b\b\b\b\b\b\b\b\b\b\b\b\b\b\b\r",
      "300/300 [==============================] - 3s 10ms/step - loss: 0.0667 - accuracy: 0.9799 - val_loss: 0.0720 - val_accuracy: 0.9818\n"
     ]
    },
    {
     "data": {
      "text/plain": [
       "<tensorflow.python.keras.callbacks.History at 0x1b08665cf10>"
      ]
     },
     "execution_count": 54,
     "metadata": {},
     "output_type": "execute_result"
    }
   ],
   "source": [
    "plot_losses = livelossplot.PlotLossesKeras()\n",
    "\n",
    "# Compile model\n",
    "model.compile(optimizer='rmsprop',\n",
    "              loss='categorical_crossentropy', #logloss\n",
    "              metrics=['accuracy'])\n",
    "\n",
    "#Parameters that can be changed\n",
    "BATCH_SIZE = 200\n",
    "EPOCHS = 10\n",
    "\n",
    "# Train model\n",
    "model.fit(X_train, y_train,\n",
    "          batch_size=BATCH_SIZE,\n",
    "          epochs=EPOCHS,\n",
    "          callbacks=[plot_losses],\n",
    "          validation_data = (X_test, y_test),\n",
    "          verbose=1)\n"
   ]
  },
  {
   "cell_type": "code",
   "execution_count": 55,
   "metadata": {},
   "outputs": [
    {
     "name": "stdout",
     "output_type": "stream",
     "text": [
      "Test loss: 0.0720108300447464\n",
      "Test accuracy: 0.9818000197410583\n"
     ]
    }
   ],
   "source": [
    "score = model.evaluate(X_test, y_test, verbose=0)\n",
    "print('Test loss:', score[0])\n",
    "print('Test accuracy:', score[1])"
   ]
  },
  {
   "cell_type": "code",
   "execution_count": 56,
   "metadata": {},
   "outputs": [
    {
     "name": "stdout",
     "output_type": "stream",
     "text": [
      "Model: \"sequential_5\"\n",
      "_________________________________________________________________\n",
      "Layer (type)                 Output Shape              Param #   \n",
      "=================================================================\n",
      "dense_16 (Dense)             (None, 512)               401920    \n",
      "_________________________________________________________________\n",
      "dropout_8 (Dropout)          (None, 512)               0         \n",
      "_________________________________________________________________\n",
      "dense_17 (Dense)             (None, 256)               131328    \n",
      "_________________________________________________________________\n",
      "dropout_9 (Dropout)          (None, 256)               0         \n",
      "_________________________________________________________________\n",
      "dense_18 (Dense)             (None, 128)               32896     \n",
      "_________________________________________________________________\n",
      "dense_19 (Dense)             (None, 10)                1290      \n",
      "=================================================================\n",
      "Total params: 567,434\n",
      "Trainable params: 567,434\n",
      "Non-trainable params: 0\n",
      "_________________________________________________________________\n"
     ]
    }
   ],
   "source": [
    "# Summary of neural network\n",
    "model.summary()"
   ]
  },
  {
   "cell_type": "code",
   "execution_count": 68,
   "metadata": {},
   "outputs": [
    {
     "data": {
      "image/png": "[encoded data removed]",
      "text/plain": [
       "<IPython.core.display.Image object>"
      ]
     },
     "execution_count": 68,
     "metadata": {},
     "output_type": "execute_result"
    }
   ],
   "source": [
    "plot_model(model)"
   ]
  },
  {
   "cell_type": "code",
   "execution_count": 57,
   "metadata": {},
   "outputs": [],
   "source": [
    "svg_model = model_to_dot(model, dpi=65)"
   ]
  },
  {
   "cell_type": "code",
   "execution_count": 58,
   "metadata": {
    "scrolled": false
   },
   "outputs": [
    {
     "data": {
      "image/svg+xml": [
       "<svg xmlns=\"http://www.w3.org/2000/svg\" xmlns:xlink=\"http://www.w3.org/1999/xlink\" width=\"163pt\" height=\"436pt\" viewBox=\"0.00 0.00 181.00 483.00\">\n",
       "<g id=\"graph0\" class=\"graph\" transform=\"scale(0.9 0.9) rotate(0) translate(4 479)\">\n",
       "<title>G</title>\n",
       "<polygon fill=\"white\" stroke=\"transparent\" points=\"-4,4 -4,-479 177,-479 177,4 -4,4\"/>\n",
       "<!-- 1857749871344 -->\n",
       "<g id=\"node1\" class=\"node\">\n",
       "<title>1857749871344</title>\n",
       "<polygon fill=\"none\" stroke=\"black\" points=\"0,-438.5 0,-474.5 173,-474.5 173,-438.5 0,-438.5\"/>\n",
       "<text text-anchor=\"middle\" x=\"86.5\" y=\"-452.8\" font-family=\"Times New Roman,serif\" font-size=\"14.00\">dense_16_input: InputLayer</text>\n",
       "</g>\n",
       "<!-- 1857701803728 -->\n",
       "<g id=\"node2\" class=\"node\">\n",
       "<title>1857701803728</title>\n",
       "<polygon fill=\"none\" stroke=\"black\" points=\"31,-365.5 31,-401.5 142,-401.5 142,-365.5 31,-365.5\"/>\n",
       "<text text-anchor=\"middle\" x=\"86.5\" y=\"-379.8\" font-family=\"Times New Roman,serif\" font-size=\"14.00\">dense_16: Dense</text>\n",
       "</g>\n",
       "<!-- 1857749871344&#45;&gt;1857701803728 -->\n",
       "<g id=\"edge1\" class=\"edge\">\n",
       "<title>1857749871344-&gt;1857701803728</title>\n",
       "<path fill=\"none\" stroke=\"black\" d=\"M86.5,-438.31C86.5,-430.29 86.5,-420.55 86.5,-411.57\"/>\n",
       "<polygon fill=\"black\" stroke=\"black\" points=\"90,-411.53 86.5,-401.53 83,-411.53 90,-411.53\"/>\n",
       "</g>\n",
       "<!-- 1857739043648 -->\n",
       "<g id=\"node3\" class=\"node\">\n",
       "<title>1857739043648</title>\n",
       "<polygon fill=\"none\" stroke=\"black\" points=\"21.5,-292.5 21.5,-328.5 151.5,-328.5 151.5,-292.5 21.5,-292.5\"/>\n",
       "<text text-anchor=\"middle\" x=\"86.5\" y=\"-306.8\" font-family=\"Times New Roman,serif\" font-size=\"14.00\">dropout_8: Dropout</text>\n",
       "</g>\n",
       "<!-- 1857701803728&#45;&gt;1857739043648 -->\n",
       "<g id=\"edge2\" class=\"edge\">\n",
       "<title>1857701803728-&gt;1857739043648</title>\n",
       "<path fill=\"none\" stroke=\"black\" d=\"M86.5,-365.31C86.5,-357.29 86.5,-347.55 86.5,-338.57\"/>\n",
       "<polygon fill=\"black\" stroke=\"black\" points=\"90,-338.53 86.5,-328.53 83,-338.53 90,-338.53\"/>\n",
       "</g>\n",
       "<!-- 1857749870768 -->\n",
       "<g id=\"node4\" class=\"node\">\n",
       "<title>1857749870768</title>\n",
       "<polygon fill=\"none\" stroke=\"black\" points=\"31,-219.5 31,-255.5 142,-255.5 142,-219.5 31,-219.5\"/>\n",
       "<text text-anchor=\"middle\" x=\"86.5\" y=\"-233.8\" font-family=\"Times New Roman,serif\" font-size=\"14.00\">dense_17: Dense</text>\n",
       "</g>\n",
       "<!-- 1857739043648&#45;&gt;1857749870768 -->\n",
       "<g id=\"edge3\" class=\"edge\">\n",
       "<title>1857739043648-&gt;1857749870768</title>\n",
       "<path fill=\"none\" stroke=\"black\" d=\"M86.5,-292.31C86.5,-284.29 86.5,-274.55 86.5,-265.57\"/>\n",
       "<polygon fill=\"black\" stroke=\"black\" points=\"90,-265.53 86.5,-255.53 83,-265.53 90,-265.53\"/>\n",
       "</g>\n",
       "<!-- 1857656875040 -->\n",
       "<g id=\"node5\" class=\"node\">\n",
       "<title>1857656875040</title>\n",
       "<polygon fill=\"none\" stroke=\"black\" points=\"21.5,-146.5 21.5,-182.5 151.5,-182.5 151.5,-146.5 21.5,-146.5\"/>\n",
       "<text text-anchor=\"middle\" x=\"86.5\" y=\"-160.8\" font-family=\"Times New Roman,serif\" font-size=\"14.00\">dropout_9: Dropout</text>\n",
       "</g>\n",
       "<!-- 1857749870768&#45;&gt;1857656875040 -->\n",
       "<g id=\"edge4\" class=\"edge\">\n",
       "<title>1857749870768-&gt;1857656875040</title>\n",
       "<path fill=\"none\" stroke=\"black\" d=\"M86.5,-219.31C86.5,-211.29 86.5,-201.55 86.5,-192.57\"/>\n",
       "<polygon fill=\"black\" stroke=\"black\" points=\"90,-192.53 86.5,-182.53 83,-192.53 90,-192.53\"/>\n",
       "</g>\n",
       "<!-- 1857656873120 -->\n",
       "<g id=\"node6\" class=\"node\">\n",
       "<title>1857656873120</title>\n",
       "<polygon fill=\"none\" stroke=\"black\" points=\"31,-73.5 31,-109.5 142,-109.5 142,-73.5 31,-73.5\"/>\n",
       "<text text-anchor=\"middle\" x=\"86.5\" y=\"-87.8\" font-family=\"Times New Roman,serif\" font-size=\"14.00\">dense_18: Dense</text>\n",
       "</g>\n",
       "<!-- 1857656875040&#45;&gt;1857656873120 -->\n",
       "<g id=\"edge5\" class=\"edge\">\n",
       "<title>1857656875040-&gt;1857656873120</title>\n",
       "<path fill=\"none\" stroke=\"black\" d=\"M86.5,-146.31C86.5,-138.29 86.5,-128.55 86.5,-119.57\"/>\n",
       "<polygon fill=\"black\" stroke=\"black\" points=\"90,-119.53 86.5,-109.53 83,-119.53 90,-119.53\"/>\n",
       "</g>\n",
       "<!-- 1857701741376 -->\n",
       "<g id=\"node7\" class=\"node\">\n",
       "<title>1857701741376</title>\n",
       "<polygon fill=\"none\" stroke=\"black\" points=\"31,-0.5 31,-36.5 142,-36.5 142,-0.5 31,-0.5\"/>\n",
       "<text text-anchor=\"middle\" x=\"86.5\" y=\"-14.8\" font-family=\"Times New Roman,serif\" font-size=\"14.00\">dense_19: Dense</text>\n",
       "</g>\n",
       "<!-- 1857656873120&#45;&gt;1857701741376 -->\n",
       "<g id=\"edge6\" class=\"edge\">\n",
       "<title>1857656873120-&gt;1857701741376</title>\n",
       "<path fill=\"none\" stroke=\"black\" d=\"M86.5,-73.31C86.5,-65.29 86.5,-55.55 86.5,-46.57\"/>\n",
       "<polygon fill=\"black\" stroke=\"black\" points=\"90,-46.53 86.5,-36.53 83,-46.53 90,-46.53\"/>\n",
       "</g>\n",
       "</g>\n",
       "</svg>"
      ],
      "text/plain": [
       "<IPython.core.display.SVG object>"
      ]
     },
     "metadata": {},
     "output_type": "display_data"
    }
   ],
   "source": [
    "# Output network visualization\n",
    "display(SVG(svg_model.create(prog='dot', format='svg')))"
   ]
  },
  {
   "cell_type": "code",
   "execution_count": null,
   "metadata": {},
   "outputs": [],
   "source": []
  }
 ],
 "metadata": {
  "kernelspec": {
   "display_name": "tf",
   "language": "python",
   "name": "tf"
  },
  "language_info": {
   "codemirror_mode": {
    "name": "ipython",
    "version": 3
   },
   "file_extension": ".py",
   "mimetype": "text/x-python",
   "name": "python",
   "nbconvert_exporter": "python",
   "pygments_lexer": "ipython3",
   "version": "3.8.8"
  }
 },
 "nbformat": 4,
 "nbformat_minor": 2
}
