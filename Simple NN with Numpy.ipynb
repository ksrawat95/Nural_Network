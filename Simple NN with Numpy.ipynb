{
 "cells": [
  {
   "cell_type": "code",
   "execution_count": 1,
   "metadata": {},
   "outputs": [],
   "source": [
    "import numpy as np\n",
    "import matplotlib.pyplot as plt\n",
    "import pandas as pd"
   ]
  },
  {
   "cell_type": "code",
   "execution_count": 7,
   "metadata": {},
   "outputs": [],
   "source": [
    "#  y = w1x1 + w2x2"
   ]
  },
  {
   "cell_type": "code",
   "execution_count": 10,
   "metadata": {},
   "outputs": [],
   "source": [
    "x1 = 2\n",
    "x2 = 5\n",
    "y = 31"
   ]
  },
  {
   "cell_type": "code",
   "execution_count": 14,
   "metadata": {},
   "outputs": [
    {
     "name": "stdout",
     "output_type": "stream",
     "text": [
      "Value of w1 -  8.0 Value of w2 -  11.0 Error is -  900\n",
      "Value of w1 -  -46.0 Value of w2 -  -97.0 Error is -  72900.0\n",
      "Value of w1 -  440.0 Value of w2 -  875.0 Error is -  5904900.0\n",
      "Value of w1 -  -3934.0 Value of w2 -  -7873.0 Error is -  478296900.0\n",
      "Value of w1 -  35432.0 Value of w2 -  70859.0 Error is -  38742048900.0\n",
      "Value of w1 -  -318862.0 Value of w2 -  -637729.0 Error is -  3138105960900.0\n",
      "Value of w1 -  2869784.0 Value of w2 -  5739563.0 Error is -  254186582832900.0\n",
      "Value of w1 -  -25828030.0 Value of w2 -  -51656065.0 Error is -  2.05891132094649e+16\n",
      "Value of w1 -  232452296.0 Value of w2 -  464904587.0 Error is -  1.667718169966657e+18\n",
      "Value of w1 -  -2092070638.0 Value of w2 -  -4184141281.0 Error is -  1.3508517176729921e+20\n",
      "Value of w1 -  18828635768.0 Value of w2 -  37657271531.0 Error is -  1.0941898913151235e+22\n",
      "Value of w1 -  -169457721886.0 Value of w2 -  -338915443777.0 Error is -  8.862938119652501e+23\n",
      "Value of w1 -  1525119497000.0 Value of w2 -  3050238993995.0 Error is -  7.178979876918526e+25\n",
      "Value of w1 -  -13726075472974.0 Value of w2 -  -27452150945953.0 Error is -  5.814973700304006e+27\n",
      "Value of w1 -  123534679256792.0 Value of w2 -  247069358513579.0 Error is -  4.710128697246245e+29\n",
      "Value of w1 -  -1111812113311102.0 Value of w2 -  -2223624226622209.0 Error is -  3.8152042447694582e+31\n",
      "Value of w1 -  1.0006309019799944e+16 Value of w2 -  2.0012618039599884e+16 Error is -  3.0903154382632615e+33\n",
      "Value of w1 -  -9.005678117819949e+16 Value of w2 -  -1.80113562356399e+17 Error is -  2.5031555049932423e+35\n",
      "Value of w1 -  8.105110306037957e+17 Value of w2 -  1.6210220612075912e+18 Error is -  2.027555959044527e+37\n",
      "Value of w1 -  -7.294599275434161e+18 Value of w2 -  -1.4589198550868322e+19 Error is -  1.6423203268260674e+39\n",
      "Value of w1 -  6.5651393478907445e+19 Value of w2 -  1.3130278695781489e+20 Error is -  1.3302794647291147e+41\n",
      "Value of w1 -  -5.908625413101671e+20 Value of w2 -  -1.1817250826203342e+21 Error is -  1.0775263664305829e+43\n",
      "Value of w1 -  5.317762871791504e+21 Value of w2 -  1.0635525743583007e+22 Error is -  8.72796356808772e+44\n",
      "Value of w1 -  -4.785986584612354e+22 Value of w2 -  -9.571973169224707e+22 Error is -  7.069650490151054e+46\n",
      "Value of w1 -  4.307387926151119e+23 Value of w2 -  8.614775852302238e+23 Error is -  5.726416897022356e+48\n",
      "Value of w1 -  -3.876649133536008e+24 Value of w2 -  -7.753298267072016e+24 Error is -  4.6383976865881106e+50\n",
      "Value of w1 -  3.4889842201824074e+25 Value of w2 -  6.977968440364815e+25 Error is -  3.757102126136371e+52\n",
      "Value of w1 -  -3.140085798164167e+26 Value of w2 -  -6.280171596328334e+26 Error is -  3.04325272217046e+54\n",
      "Value of w1 -  2.82607721834775e+27 Value of w2 -  5.6521544366955e+27 Error is -  2.4650347049580726e+56\n",
      "Value of w1 -  -2.5434694965129753e+28 Value of w2 -  -5.086938993025951e+28 Error is -  1.9966781110160395e+58\n",
      "Value of w1 -  2.2891225468616775e+29 Value of w2 -  4.578245093723355e+29 Error is -  1.617309269922992e+60\n",
      "Value of w1 -  -2.0602102921755094e+30 Value of w2 -  -4.120420584351019e+30 Error is -  1.310020508637623e+62\n",
      "Value of w1 -  1.8541892629579584e+31 Value of w2 -  3.7083785259159167e+31 Error is -  1.0611166119964745e+64\n",
      "Value of w1 -  -1.668770336662163e+32 Value of w2 -  -3.337540673324326e+32 Error is -  8.595044557171445e+65\n",
      "Value of w1 -  1.5018933029959466e+33 Value of w2 -  3.003786605991893e+33 Error is -  6.961986091308872e+67\n",
      "Value of w1 -  -1.351703972696352e+34 Value of w2 -  -2.703407945392704e+34 Error is -  5.639208733960185e+69\n",
      "Value of w1 -  1.2165335754267166e+35 Value of w2 -  2.433067150853433e+35 Error is -  4.56775907450775e+71\n",
      "Value of w1 -  -1.0948802178840453e+36 Value of w2 -  -2.1897604357680905e+36 Error is -  3.699884850351278e+73\n",
      "Value of w1 -  9.853921960956408e+36 Value of w2 -  1.9707843921912816e+37 Error is -  2.9969067287845365e+75\n",
      "Value of w1 -  -8.868529764860765e+37 Value of w2 -  -1.773705952972153e+38 Error is -  2.427494450315474e+77\n",
      "Value of w1 -  7.981676788374689e+38 Value of w2 -  1.5963353576749377e+39 Error is -  1.9662705047555333e+79\n",
      "Value of w1 -  -7.18350910953722e+39 Value of w2 -  -1.436701821907444e+40 Error is -  1.592679108851982e+81\n",
      "Value of w1 -  6.4651581985834975e+40 Value of w2 -  1.2930316397166995e+41 Error is -  1.2900700781701058e+83\n",
      "Value of w1 -  -5.8186423787251476e+41 Value of w2 -  -1.1637284757450295e+42 Error is -  1.044956763317785e+85\n",
      "Value of w1 -  5.236778140852632e+42 Value of w2 -  1.0473556281705265e+43 Error is -  8.464149782874059e+86\n",
      "Value of w1 -  -4.713100326767369e+43 Value of w2 -  -9.426200653534738e+43 Error is -  6.855961324127989e+88\n",
      "Value of w1 -  4.2417902940906316e+44 Value of w2 -  8.483580588181263e+44 Error is -  5.553328672543669e+90\n",
      "Value of w1 -  -3.817611264681569e+45 Value of w2 -  -7.635222529363137e+45 Error is -  4.4981962247603717e+92\n",
      "Value of w1 -  3.4358501382134126e+46 Value of w2 -  6.871700276426825e+46 Error is -  3.643538942055902e+94\n",
      "Value of w1 -  -3.0922651243920718e+47 Value of w2 -  -6.1845302487841435e+47 Error is -  2.9512665430652823e+96\n",
      "Value of w1 -  2.7830386119528643e+48 Value of w2 -  5.5660772239057286e+48 Error is -  2.390525899882878e+98\n",
      "Value of w1 -  -2.5047347507575784e+49 Value of w2 -  -5.009469501515157e+49 Error is -  1.936325978905132e+100\n",
      "Value of w1 -  2.2542612756818205e+50 Value of w2 -  4.508522551363641e+50 Error is -  1.5684240429131573e+102\n",
      "Value of w1 -  -2.0288351481136387e+51 Value of w2 -  -4.0576702962272774e+51 Error is -  1.2704234747596573e+104\n",
      "Value of w1 -  1.8259516333022746e+52 Value of w2 -  3.651903266604549e+52 Error is -  1.0290430145553223e+106\n",
      "Value of w1 -  -1.643356469972047e+53 Value of w2 -  -3.286712939944094e+53 Error is -  8.33524841789811e+107\n",
      "Value of w1 -  1.4790208229748428e+54 Value of w2 -  2.9580416459496855e+54 Error is -  6.751551218497471e+109\n",
      "Value of w1 -  -1.3311187406773584e+55 Value of w2 -  -2.662237481354717e+55 Error is -  5.468756486982953e+111\n",
      "Value of w1 -  1.1980068666096223e+56 Value of w2 -  2.3960137332192446e+56 Error is -  4.42969275445619e+113\n",
      "Value of w1 -  -1.07820617994866e+57 Value of w2 -  -2.15641235989732e+57 Error is -  3.588051131109513e+115\n",
      "Value of w1 -  9.703855619537941e+57 Value of w2 -  1.9407711239075883e+58 Error is -  2.9063214161987056e+117\n",
      "Value of w1 -  -8.733470057584147e+58 Value of w2 -  -1.7466940115168295e+59 Error is -  2.3541203471209526e+119\n",
      "Value of w1 -  7.860123051825733e+59 Value of w2 -  1.5720246103651465e+60 Error is -  1.9068374811679714e+121\n",
      "Value of w1 -  -7.074110746643159e+60 Value of w2 -  -1.4148221493286318e+61 Error is -  1.544538359746057e+123\n",
      "Value of w1 -  6.366699671978844e+61 Value of w2 -  1.2733399343957688e+62 Error is -  1.251076071394306e+125\n",
      "Value of w1 -  -5.730029704780959e+62 Value of w2 -  -1.1460059409561918e+63 Error is -  1.0133716178293877e+127\n",
      "Value of w1 -  5.1570267343028635e+63 Value of w2 -  1.0314053468605727e+64 Error is -  8.208310104418041e+128\n",
      "Value of w1 -  -4.641324060872578e+64 Value of w2 -  -9.282648121745156e+64 Error is -  6.648731184578614e+130\n",
      "Value of w1 -  4.177191654785321e+65 Value of w2 -  8.354383309570642e+65 Error is -  5.385472259508679e+132\n",
      "Value of w1 -  -3.7594724893067894e+66 Value of w2 -  -7.518944978613579e+66 Error is -  4.3622325302020315e+134\n",
      "Value of w1 -  3.3835252403761105e+67 Value of w2 -  6.767050480752221e+67 Error is -  3.533408349463647e+136\n",
      "Value of w1 -  -3.045172716338499e+68 Value of w2 -  -6.090345432676998e+68 Error is -  2.862060763065554e+138\n",
      "Value of w1 -  2.740655444704649e+69 Value of w2 -  5.481310889409298e+69 Error is -  2.3182692180830985e+140\n",
      "Value of w1 -  -2.4665899002341847e+70 Value of w2 -  -4.9331798004683693e+70 Error is -  1.8777980666473098e+142\n",
      "Value of w1 -  2.219930910210766e+71 Value of w2 -  4.439861820421532e+71 Error is -  1.521016433984321e+144\n",
      "Value of w1 -  -1.99793781918969e+72 Value of w2 -  -3.99587563837938e+72 Error is -  1.2320233115273003e+146\n",
      "Value of w1 -  1.7981440372707214e+73 Value of w2 -  3.596288074541443e+73 Error is -  9.979388823371136e+147\n",
      "Value of w1 -  -1.6183296335436492e+74 Value of w2 -  -3.2366592670872983e+74 Error is -  8.083304946930622e+149\n",
      "Value of w1 -  1.4564966701892844e+75 Value of w2 -  2.912993340378569e+75 Error is -  6.547477007013805e+151\n",
      "Value of w1 -  -1.310847003170356e+76 Value of w2 -  -2.621694006340712e+76 Error is -  5.303456375681184e+153\n",
      "Value of w1 -  1.1797623028533204e+77 Value of w2 -  2.359524605706641e+77 Error is -  4.295799664301758e+155\n",
      "Value of w1 -  -1.0617860725679887e+78 Value of w2 -  -2.1235721451359774e+78 Error is -  3.479597728084425e+157\n",
      "Value of w1 -  9.556074653111896e+78 Value of w2 -  1.9112149306223792e+79 Error is -  2.8184741597483844e+159\n",
      "Value of w1 -  -8.600467187800707e+79 Value of w2 -  -1.7200934375601414e+80 Error is -  2.282964069396191e+161\n",
      "Value of w1 -  7.740420469020639e+80 Value of w2 -  1.5480840938041277e+81 Error is -  1.8492008962109155e+163\n",
      "Value of w1 -  -6.966378422118575e+81 Value of w2 -  -1.393275684423715e+82 Error is -  1.4978527259308423e+165\n",
      "Value of w1 -  6.269740579906718e+82 Value of w2 -  1.2539481159813437e+83 Error is -  1.2132607080039826e+167\n",
      "Value of w1 -  -5.642766521916047e+83 Value of w2 -  -1.1285533043832093e+84 Error is -  9.827411734832258e+168\n",
      "Value of w1 -  5.078489869724442e+84 Value of w2 -  1.0156979739448884e+85 Error is -  7.960203505214129e+170\n",
      "Value of w1 -  -4.570640882751998e+85 Value of w2 -  -9.141281765503996e+85 Error is -  6.447764839223443e+172\n",
      "Value of w1 -  4.113576794476799e+86 Value of w2 -  8.227153588953598e+86 Error is -  5.222689519770992e+174\n",
      "Value of w1 -  -3.702219115029119e+87 Value of w2 -  -7.404438230058238e+87 Error is -  4.230378511014504e+176\n",
      "Value of w1 -  3.3319972035262075e+88 Value of w2 -  6.663994407052415e+88 Error is -  3.426606593921749e+178\n",
      "Value of w1 -  -2.9987974831735874e+89 Value of w2 -  -5.997594966347175e+89 Error is -  2.775551341076617e+180\n",
      "Value of w1 -  2.6989177348562285e+90 Value of w2 -  5.397835469712457e+90 Error is -  2.2481965862720605e+182\n",
      "Value of w1 -  -2.4290259613706057e+91 Value of w2 -  -4.8580519227412114e+91 Error is -  1.8210392348803695e+184\n",
      "Value of w1 -  2.186123365233545e+92 Value of w2 -  4.37224673046709e+92 Error is -  1.4750417802530986e+186\n",
      "Value of w1 -  -1.9675110287101912e+93 Value of w2 -  -3.9350220574203823e+93 Error is -  1.1947838420050104e+188\n",
      "Value of w1 -  1.770759925839172e+94 Value of w2 -  3.541519851678344e+94 Error is -  9.67774912024059e+189\n",
      "Value of w1 -  -1.5936839332552548e+95 Value of w2 -  -3.1873678665105097e+95 Error is -  7.838976787394875e+191\n"
     ]
    }
   ],
   "source": [
    "lr = 0.01\n",
    "w1 = 1\n",
    "w2 = 7\n",
    "for epoch in range(50):\n",
    "    y_pred = w1*x1 + w2*x2\n",
    "    error = (y - y_pred)**2\n",
    "    dEw1 = 2*(y - y_pred)*(-x1)\n",
    "    dEw2 = 2*(y - y_pred)*(-x2)\n",
    "\n",
    "    w1 = w1 - lr*dEw1\n",
    "    w2 = w2 - lr*dEw2\n",
    "    print(\"Value of w1 - \", w1, \"Value of w2 - \", w2, \"Error is - \", error)"
   ]
  },
  {
   "cell_type": "code",
   "execution_count": 4,
   "metadata": {},
   "outputs": [
    {
     "name": "stdout",
     "output_type": "stream",
     "text": [
      "2.3103448275862073 5.275862068965518\n"
     ]
    }
   ],
   "source": [
    "print(w1, w2)"
   ]
  },
  {
   "cell_type": "code",
   "execution_count": 5,
   "metadata": {},
   "outputs": [
    {
     "data": {
      "text/plain": [
       "31.0"
      ]
     },
     "execution_count": 5,
     "metadata": {},
     "output_type": "execute_result"
    }
   ],
   "source": [
    "x1*w1 + x2*w2"
   ]
  },
  {
   "cell_type": "code",
   "execution_count": null,
   "metadata": {},
   "outputs": [],
   "source": []
  }
 ],
 "metadata": {
  "kernelspec": {
   "display_name": "Python 3",
   "language": "python",
   "name": "python3"
  },
  "language_info": {
   "codemirror_mode": {
    "name": "ipython",
    "version": 3
   },
   "file_extension": ".py",
   "mimetype": "text/x-python",
   "name": "python",
   "nbconvert_exporter": "python",
   "pygments_lexer": "ipython3",
   "version": "3.8.5"
  }
 },
 "nbformat": 4,
 "nbformat_minor": 2
}
